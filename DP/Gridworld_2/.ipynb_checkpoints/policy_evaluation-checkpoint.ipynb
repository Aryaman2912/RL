{
 "cells": [
  {
   "cell_type": "code",
   "execution_count": 1,
   "metadata": {},
   "outputs": [],
   "source": [
    "import numpy as np"
   ]
  },
  {
   "cell_type": "code",
   "execution_count": 2,
   "metadata": {},
   "outputs": [],
   "source": [
    "# Initialize states and transition rewards\n",
    "def initialization():\n",
    "    V = np.zeros([4,4])\n",
    "    R = np.array([[0,-10,-10,-10],\n",
    "                  [-1,-1,-1,-1],\n",
    "                  [-10,-10,-10,-1],\n",
    "                  [-1,-1,-1,-1]]\n",
    "                )\n",
    "    return V,R"
   ]
  },
  {
   "cell_type": "code",
   "execution_count": 3,
   "metadata": {},
   "outputs": [],
   "source": [
    "# Evaluate value function for a equiprobable random policy\n",
    "def policy_evaluation(V,R):\n",
    "    num_iterations = 0\n",
    "    # Loop for convergence of the value function\n",
    "    while num_iterations < 1000:\n",
    "        V1 = np.zeros([4,4])\n",
    "        # Loops to update all states\n",
    "        for i in range(4):\n",
    "            for j in range(4):\n",
    "                # Actions that take the agent out of the grid leave it unchanged\n",
    "                if i == 0 and j == 0:\n",
    "                    continue\n",
    "                elif i == 0 and j == 3:\n",
    "                    V1[i][j] = 2*0.25*(R[i][j] + V[i][j]) + 0.25*(R[i][j] + V[i][j-1]) + 0.25*(R[i][j] + V[i+1][j])\n",
    "                elif i == 3 and j == 0:\n",
    "                    V1[i][j] = 2*0.25*(R[i][j] + V[i][j]) + 0.25*(R[i][j] + V[i-1][j]) + 0.25*(R[i][j] + V[i][j+1])\n",
    "                elif i == 3 and j == 3:\n",
    "                    V1[i][j] = 2*0.25*(R[i][j] + V[i][j]) + 0.25*(R[i][j] + V[i-1][j]) + 0.25*(R[i][j] + V[i][j-1])\n",
    "                elif i == 0:\n",
    "                    V1[i][j] = 0.25*(R[i][j] + V[i][j]) + 0.25*(R[i][j] + V[i][j-1]) + 0.25*(R[i][j] + V[i][j+1]) + 0.25*(R[i][j] + V[i+1][j])\n",
    "                elif i == 3:\n",
    "                    V1[i][j] = 0.25*(R[i][j] + V[i][j]) + 0.25*(R[i][j] + V[i][j+1]) + 0.25*(R[i][j] + V[i][j-1]) + 0.25*(R[i][j] + V[i-1][j])\n",
    "                elif j == 0:\n",
    "                    V1[i][j] = 0.25*(R[i][j] + V[i][j]) + 0.25*(R[i][j] + V[i-1][j]) + 0.25*(R[i][j] + V[i+1][j]) + 0.25*(R[i][j] + V[i][j+1])\n",
    "                elif j == 3:\n",
    "                    V1[i][j] = 0.25*(R[i][j] + V[i][j]) + 0.25*(R[i][j] + V[i-1][j]) + 0.25*(R[i][j] + V[i+1][j]) + 0.25*(R[i][j] + V[i][j-1])\n",
    "                else:\n",
    "                    V1[i][j] = 0.25*(R[i][j] + V[i][j+1]) + 0.25*(R[i][j] + V[i-1][j]) + 0.25*(R[i][j] + V[i+1][j]) + 0.25*(R[i][j] + V[i][j-1])\n",
    "        \n",
    "        V = V1\n",
    "        num_iterations += 1\n",
    "    return V\n",
    "            "
   ]
  },
  {
   "cell_type": "code",
   "execution_count": 4,
   "metadata": {},
   "outputs": [
    {
     "name": "stdout",
     "output_type": "stream",
     "text": [
      "[[   0. -147. -219. -248.]\n",
      " [-129. -181. -221. -238.]\n",
      " [-203. -223. -241. -242.]\n",
      " [-218. -228. -238. -242.]]\n"
     ]
    }
   ],
   "source": [
    "V,R = initialization()\n",
    "V = policy_evaluation(V,R)\n",
    "print(np.round(V))"
   ]
  },
  {
   "cell_type": "code",
   "execution_count": null,
   "metadata": {},
   "outputs": [],
   "source": []
  }
 ],
 "metadata": {
  "kernelspec": {
   "display_name": "Python 3",
   "language": "python",
   "name": "python3"
  },
  "language_info": {
   "codemirror_mode": {
    "name": "ipython",
    "version": 3
   },
   "file_extension": ".py",
   "mimetype": "text/x-python",
   "name": "python",
   "nbconvert_exporter": "python",
   "pygments_lexer": "ipython3",
   "version": "3.7.6"
  }
 },
 "nbformat": 4,
 "nbformat_minor": 4
}
