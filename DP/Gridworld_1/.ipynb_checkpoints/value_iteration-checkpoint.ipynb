{
 "cells": [
  {
   "cell_type": "code",
   "execution_count": 1,
   "metadata": {},
   "outputs": [],
   "source": [
    "import numpy as np"
   ]
  },
  {
   "cell_type": "code",
   "execution_count": 56,
   "metadata": {},
   "outputs": [],
   "source": [
    "# Initialize states and random policy\n",
    "\n",
    "def initialization():\n",
    "    V = np.zeros([4,4])\n",
    "    P = [[[],['L','R','D'],['L','R','D'],['L','D']],\n",
    "         [['U','R','D'],['U','R','L','D'],['U','R','L','D'],['U','L','D']],\n",
    "         [['U','R','D'],['U','R','L','D'],['U','R','L','D'],['U','L','D']],\n",
    "         [['U','R'],['L','R','U'],['L','R','U'],[]]]\n",
    "    return V,P"
   ]
  },
  {
   "cell_type": "code",
   "execution_count": 57,
   "metadata": {},
   "outputs": [],
   "source": [
    "# Function to implement Value iteration\n",
    "def value_iteration(V,P):\n",
    "    num_iterations = 0\n",
    "    # Loop for convergence of value function\n",
    "    while num_iterations < 1000:\n",
    "        V1 = np.zeros([4,4])\n",
    "        for i in range(4):\n",
    "            for j in range(4):\n",
    "                # Evaluate value function using DP methods\n",
    "                if (i == 0 and j == 0) or (i == 3 and j == 3):\n",
    "                    continue\n",
    "                elif i == 0 and j == 3:\n",
    "                    V1[i][j] = max(0.25*(-1 + V[i][j-1]),0.25*(-1 + V[i+1][j]),0.25*(-1 + V[i][j]))\n",
    "                elif i == 3 and j == 0:\n",
    "                    V1[i][j] = max(0.25*(-1 + V[i-1][j]),0.25*(-1 + V[i][j+1]),0.25*(-1 + V[i][j]))\n",
    "                elif i == 0:\n",
    "                    V1[i][j] = max(0.25*(-1 + V[i][j-1]),0.25*(-1 + V[i][j+1]),0.25*(-1 + V[i+1][j]),0.25*(-1 + V[i][j]))\n",
    "                elif i == 3:\n",
    "                    V1[i][j] = max(0.25*(-1 + V[i][j-1]),0.25*(-1 + V[i][j+1]),0.25*(-1 + V[i-1][j]),0.25*(-1 + V[i][j]))\n",
    "                elif j == 0:\n",
    "                    V1[i][j] = max(0.25*(-1 + V[i][j+1]),0.25*(-1 + V[i-1][j]),0.25*(-1 + V[i+1][j]),0.25*(-1 + V[i][j]))\n",
    "                elif j == 3:\n",
    "                    V1[i][j] = max(0.25*(-1 + V[i][j-1]),0.25*(-1 + V[i-1][j]),0.25*(-1 + V[i+1][j]),0.25*(-1 + V[i][j]))\n",
    "                else:\n",
    "                    V1[i][j] = max(0.25*(-1 + V[i-1][j]),0.25*(-1 + V[i+1][j]),0.25*(-1 + V[i][j-1]),0.25*(-1 + V[i][j+1]))\n",
    "        \n",
    "        V = V1\n",
    "        num_iterations += 1\n",
    "        \n",
    "    Actions = [[0,-1,'L'],[-1,0,'U'],[0,1,'R'],[1,0,'D']]\n",
    "    \n",
    "    # Find optimal policy using precomputed values of all states   \n",
    "    for i in range(4):\n",
    "        for j in range(4):\n",
    "            if (i == 0 and j == 0) or (i == 3 and j == 3):\n",
    "                continue\n",
    "            optimal_policy = []\n",
    "            max_val = -1e10\n",
    "            for a in Actions:\n",
    "                x = i + a[0]\n",
    "                y = j + a[1]\n",
    "                if x in range(4) and y in range(4): \n",
    "                    val = -1 + V[x][y]\n",
    "                    if val > max_val:\n",
    "                        optimal_policy = [a[2]]\n",
    "                        max_val = val\n",
    "                    elif val == max_val:\n",
    "                        optimal_policy.append(a[2])\n",
    "            P[i][j] = optimal_policy\n",
    "    return V,P"
   ]
  },
  {
   "cell_type": "code",
   "execution_count": 58,
   "metadata": {},
   "outputs": [
    {
     "name": "stdout",
     "output_type": "stream",
     "text": [
      "[[ 0.       -0.25     -0.3125   -0.328125]\n",
      " [-0.25     -0.3125   -0.328125 -0.3125  ]\n",
      " [-0.3125   -0.328125 -0.3125   -0.25    ]\n",
      " [-0.328125 -0.3125   -0.25      0.      ]]\n",
      "[[], ['L'], ['L'], ['L', 'D']]\n",
      "[['U'], ['L', 'U'], ['L', 'U', 'R', 'D'], ['D']]\n",
      "[['U'], ['L', 'U', 'R', 'D'], ['R', 'D'], ['D']]\n",
      "[['U', 'R'], ['R'], ['R'], []]\n"
     ]
    }
   ],
   "source": [
    "V,P = initialization()\n",
    "V,P = value_iteration(V,P)\n",
    "print(V)\n",
    "for row in P:\n",
    "    print(row)"
   ]
  },
  {
   "cell_type": "code",
   "execution_count": null,
   "metadata": {},
   "outputs": [],
   "source": []
  }
 ],
 "metadata": {
  "kernelspec": {
   "display_name": "Python 3",
   "language": "python",
   "name": "python3"
  },
  "language_info": {
   "codemirror_mode": {
    "name": "ipython",
    "version": 3
   },
   "file_extension": ".py",
   "mimetype": "text/x-python",
   "name": "python",
   "nbconvert_exporter": "python",
   "pygments_lexer": "ipython3",
   "version": "3.7.6"
  }
 },
 "nbformat": 4,
 "nbformat_minor": 4
}
