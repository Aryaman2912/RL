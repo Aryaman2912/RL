{
 "cells": [
  {
   "cell_type": "code",
   "execution_count": 1,
   "metadata": {},
   "outputs": [],
   "source": [
    "import numpy as np"
   ]
  },
  {
   "cell_type": "code",
   "execution_count": 2,
   "metadata": {},
   "outputs": [],
   "source": [
    "# Initialize states and policy\n",
    "\n",
    "def initialization():\n",
    "    num_rows = 4\n",
    "    num_cols = 4\n",
    "    states = []\n",
    "    for i in range(num_rows):\n",
    "        for j in range(num_cols):\n",
    "            states.append((i,j))\n",
    "    terminal_states = [(0,0),(3,3)]\n",
    "    return states,terminal_states"
   ]
  },
  {
   "cell_type": "code",
   "execution_count": 3,
   "metadata": {},
   "outputs": [],
   "source": [
    "# Policy evaluation for equiprobable random policy\n",
    "def policy_evaluation(states,terminal_states):\n",
    "    num_iterations = 0\n",
    "    V = {}\n",
    "    V1 = {}\n",
    "    for state in states:\n",
    "        V[state] = 0\n",
    "        V1[state] = 0\n",
    "    # Loop for convergence of V\n",
    "    while num_iterations < 100:\n",
    "        # Loops to update all states\n",
    "        V1 = {}\n",
    "        for state in states:\n",
    "            V1[state] = 0\n",
    "        for state in states:\n",
    "            if state in terminal_states:\n",
    "                continue\n",
    "            V1[state] += 0.25*(-1 + V[(state[0],max(0,state[1]-1))])\n",
    "            V1[state] += 0.25*(-1 + V[(state[0],min(3,state[1]+1))])\n",
    "            V1[state] += 0.25*(-1 + V[(max(0,state[0]-1),state[1])])\n",
    "            V1[state] += 0.25*(-1 + V[(min(3,state[0]+1),state[1])])\n",
    "                \n",
    "        V = V1\n",
    "        num_iterations += 1\n",
    "\n",
    "    return V"
   ]
  },
  {
   "cell_type": "code",
   "execution_count": 4,
   "metadata": {
    "scrolled": false
   },
   "outputs": [
    {
     "name": "stdout",
     "output_type": "stream",
     "text": [
      "[[  0. -14. -20. -22.]\n",
      " [-14. -18. -20. -20.]\n",
      " [-20. -20. -18. -14.]\n",
      " [-22. -20. -14.   0.]]\n"
     ]
    }
   ],
   "source": [
    "states,terminal_states = initialization()\n",
    "\n",
    "V1 = policy_evaluation(states,terminal_states)\n",
    "\n",
    "# Convert value function from dictionary to a numpy array \n",
    "V = np.zeros((4,4))\n",
    "for state in states:\n",
    "    V[state[0]][state[1]] = V1[state]\n",
    "    \n",
    "# Print value function\n",
    "print(np.round(V))"
   ]
  },
  {
   "cell_type": "code",
   "execution_count": null,
   "metadata": {},
   "outputs": [],
   "source": []
  }
 ],
 "metadata": {
  "kernelspec": {
   "display_name": "Python 3",
   "language": "python",
   "name": "python3"
  },
  "language_info": {
   "codemirror_mode": {
    "name": "ipython",
    "version": 3
   },
   "file_extension": ".py",
   "mimetype": "text/x-python",
   "name": "python",
   "nbconvert_exporter": "python",
   "pygments_lexer": "ipython3",
   "version": "3.7.6"
  }
 },
 "nbformat": 4,
 "nbformat_minor": 4
}
