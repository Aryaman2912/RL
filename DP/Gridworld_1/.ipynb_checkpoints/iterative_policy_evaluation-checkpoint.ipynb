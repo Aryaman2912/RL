{
 "cells": [
  {
   "cell_type": "code",
   "execution_count": 1,
   "metadata": {},
   "outputs": [],
   "source": [
    "import numpy as np"
   ]
  },
  {
   "cell_type": "code",
   "execution_count": 2,
   "metadata": {},
   "outputs": [],
   "source": [
    "# Initialize states and policy\n",
    "\n",
    "def initialization():\n",
    "    V = np.zeros([4,4])\n",
    "    return V"
   ]
  },
  {
   "cell_type": "code",
   "execution_count": 3,
   "metadata": {},
   "outputs": [],
   "source": [
    "# Policy evaluation for equiprobable random policy\n",
    "def policy_evaluation(V):\n",
    "    num_iterations = 0\n",
    "    V = np.zeros([4,4])\n",
    "    V1 = np.zeros([4,4])\n",
    "    # Loop for convergence of V\n",
    "    while num_iterations < 1000:\n",
    "        # Loops to update all states\n",
    "        for i in range(0,4):\n",
    "            for j in range(0,4):\n",
    "                # Actions that take the agent out of the grid leave it unchanged\n",
    "                if (i == 0 and j == 0) or (i == 3 and j == 3):\n",
    "                    V1[i][j] = 0\n",
    "                    continue\n",
    "                elif i == 0 and j == 3:\n",
    "                    V1[i][j] = 0.25*(-1 + V[i][j-1]) + 0.25*(-1 + V[i+1][j]) + 2*0.25*(-1 + V[i][j])\n",
    "                elif i == 3 and j == 0:\n",
    "                    V1[i][j] = 0.25*(-1 + V[i-1][j]) + 0.25*(-1 + V[i][j+1]) + 2*0.25*(-1 + V[i][j])\n",
    "                elif i == 0 and j != 0:\n",
    "                    V1[i][j] = 0.25*(-1 + V[i][j-1]) + 0.25*(-1 + V[i][j+1]) + 0.25*(-1 + V[i+1][j]) + 0.25*(-1 + V[i][j])\n",
    "                elif i == 3 and j != 3:\n",
    "                    V1[i][j] = 0.25*(-1 + V[i][j-1]) + 0.25*(-1 + V[i][j+1]) + 0.25*(-1 + V[i-1][j]) + 0.25*(-1 + V[i][j])\n",
    "                elif j == 0 and i != 0:\n",
    "                    V1[i][j] = 0.25*(-1 + V[i][j+1]) + 0.25*(-1 + V[i-1][j]) + 0.25*(-1 + V[i+1][j]) + 0.25*(-1 + V[i][j])\n",
    "                elif j == 3 and i != 3:\n",
    "                    V1[i][j] = 0.25*(-1 + V[i][j-1]) + 0.25*(-1 + V[i-1][j]) + 0.25*(-1 + V[i+1][j]) + 0.25*(-1 + V[i][j])\n",
    "                else:\n",
    "                    V1[i][j] = 0.25*(-1 + V[i-1][j]) + 0.25*(-1 + V[i+1][j]) + 0.25*(-1 + V[i][j-1]) + 0.25*(-1 + V[i][j+1])\n",
    "        \n",
    "        V = V1\n",
    "        num_iterations += 1\n",
    "    \n",
    "    return V"
   ]
  },
  {
   "cell_type": "code",
   "execution_count": 4,
   "metadata": {},
   "outputs": [
    {
     "name": "stdout",
     "output_type": "stream",
     "text": [
      "[[  0. -14. -20. -22.]\n",
      " [-14. -18. -20. -20.]\n",
      " [-20. -20. -18. -14.]\n",
      " [-22. -20. -14.   0.]]\n"
     ]
    }
   ],
   "source": [
    "V = initialization()\n",
    "\n",
    "V = policy_evaluation(V)\n",
    "\n",
    "# Print value function\n",
    "print(np.round(V))"
   ]
  },
  {
   "cell_type": "code",
   "execution_count": null,
   "metadata": {},
   "outputs": [],
   "source": []
  }
 ],
 "metadata": {
  "kernelspec": {
   "display_name": "Python 3",
   "language": "python",
   "name": "python3"
  },
  "language_info": {
   "codemirror_mode": {
    "name": "ipython",
    "version": 3
   },
   "file_extension": ".py",
   "mimetype": "text/x-python",
   "name": "python",
   "nbconvert_exporter": "python",
   "pygments_lexer": "ipython3",
   "version": "3.7.6"
  }
 },
 "nbformat": 4,
 "nbformat_minor": 4
}
