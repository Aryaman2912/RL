{
 "cells": [
  {
   "cell_type": "code",
   "execution_count": 1,
   "metadata": {},
   "outputs": [],
   "source": [
    "import numpy as np"
   ]
  },
  {
   "cell_type": "code",
   "execution_count": 2,
   "metadata": {},
   "outputs": [],
   "source": [
    "# Initialize states and policy\n",
    "\n",
    "def initialization():\n",
    "    V = np.zeros([4,4])\n",
    "    # L = left, R = right, U = up, D = down\n",
    "    P = [[[],['L','R','D'],['L','R','D'],['L','D']],\n",
    "         [['U','R','D'],['U','R','L','D'],['U','R','L','D'],['U','L','D']],\n",
    "         [['U','R','D'],['U','R','L','D'],['U','R','L','D'],['U','L','D']],\n",
    "         [['U','R'],['L','R','U'],['L','R','U'],[]]]\n",
    "    return V,P"
   ]
  },
  {
   "cell_type": "code",
   "execution_count": 3,
   "metadata": {},
   "outputs": [],
   "source": [
    "# Policy evaluation\n",
    "def policy_evaluation(V):\n",
    "    num_iterations = 0\n",
    "    V = np.zeros([4,4])\n",
    "    V1 = np.zeros([4,4])\n",
    "    # Loop for convergence of V\n",
    "    while num_iterations < 1000:\n",
    "        # Loops to update all states\n",
    "        for i in range(0,4):\n",
    "            for j in range(0,4):\n",
    "                if (i == 0 and j == 0) or (i == 3 and j == 3):\n",
    "                    V1[i][j] = 0\n",
    "                    continue\n",
    "                elif i == 0 and j == 3:\n",
    "                    V1[i][j] = 0.25*(-1 + V[i][j-1]) + 0.25*(-1 + V[i+1][j]) + 2*0.25*(-1 + V[i][j])\n",
    "                elif i == 3 and j == 0:\n",
    "                    V1[i][j] = 0.25*(-1 + V[i-1][j]) + 0.25*(-1 + V[i][j+1]) + 2*0.25*(-1 + V[i][j])\n",
    "                elif i == 0 and j != 0:\n",
    "                    V1[i][j] = 0.25*(-1 + V[i][j-1]) + 0.25*(-1 + V[i][j+1]) + 0.25*(-1 + V[i+1][j]) + 0.25*(-1 + V[i][j])\n",
    "                elif i == 3 and j != 3:\n",
    "                    V1[i][j] = 0.25*(-1 + V[i][j-1]) + 0.25*(-1 + V[i][j+1]) + 0.25*(-1 + V[i-1][j]) + 0.25*(-1 + V[i][j])\n",
    "                elif j == 0 and i != 0:\n",
    "                    V1[i][j] = 0.25*(-1 + V[i][j+1]) + 0.25*(-1 + V[i-1][j]) + 0.25*(-1 + V[i+1][j]) + 0.25*(-1 + V[i][j])\n",
    "                elif j == 3 and i != 3:\n",
    "                    V1[i][j] = 0.25*(-1 + V[i][j-1]) + 0.25*(-1 + V[i-1][j]) + 0.25*(-1 + V[i+1][j]) + 0.25*(-1 + V[i][j])\n",
    "                else:\n",
    "                    V1[i][j] = 0.25*(-1 + V[i-1][j]) + 0.25*(-1 + V[i+1][j]) + 0.25*(-1 + V[i][j-1]) + 0.25*(-1 + V[i][j+1])\n",
    "        \n",
    "        V = V1\n",
    "        num_iterations += 1\n",
    "    \n",
    "    return V"
   ]
  },
  {
   "cell_type": "code",
   "execution_count": 4,
   "metadata": {},
   "outputs": [],
   "source": [
    "# Policy improvement\n",
    "def policy_improvement(V,P):\n",
    "    policy_stable = True\n",
    "    # Implementation of Bellman Optimality Equation for all states\n",
    "    for i in range(4):\n",
    "        for j in range(4):\n",
    "            if (i == 0 and j == 0) or (i == 3 and j == 3):\n",
    "                continue\n",
    "            old_action = P[i][j]\n",
    "            max_val = -1e10\n",
    "            new_action = []\n",
    "            # Find optimal action for the state from the given policy\n",
    "            for action in P[i][j]:\n",
    "                if action == 'L':\n",
    "                    val_l = -1 + V[i][j-1]\n",
    "                    if val_l > max_val:\n",
    "                        new_action = ['L']\n",
    "                        max_val = val_l\n",
    "                    elif val_l == max_val:\n",
    "                        new_action.append('L')\n",
    "                if action == 'U':\n",
    "                    val_u = -1 + V[i-1][j]\n",
    "                    if val_u > max_val:\n",
    "                        new_action = ['U']\n",
    "                        max_val = val_u\n",
    "                    elif val_u == max_val:\n",
    "                        new_action.append('U')\n",
    "                if action == 'R':\n",
    "                    val_r = -1 + V[i][j+1]\n",
    "                    if val_r > max_val:\n",
    "                        new_action = ['R']\n",
    "                        max_val = val_r\n",
    "                    elif val_r == max_val:\n",
    "                        new_action.append('R')\n",
    "                if action == 'D':\n",
    "                    val_d = -1 + V[i+1][j]\n",
    "                    if val_d > max_val:\n",
    "                        new_action = ['D']\n",
    "                        max_val = val_d\n",
    "                    elif val_d == max_val:\n",
    "                        new_action.append('D')\n",
    "                        \n",
    "            # If policy is updated for atleast one state, we have to repeat the process again\n",
    "            if old_action != new_action:\n",
    "                P[i][j] = new_action\n",
    "                policy_stable = False\n",
    "\n",
    "    return policy_stable"
   ]
  },
  {
   "cell_type": "code",
   "execution_count": 5,
   "metadata": {},
   "outputs": [
    {
     "name": "stdout",
     "output_type": "stream",
     "text": [
      "[[  0. -14. -20. -22.]\n",
      " [-14. -18. -20. -20.]\n",
      " [-20. -20. -18. -14.]\n",
      " [-22. -20. -14.   0.]]\n",
      "[[], ['L'], ['L'], ['L', 'D']]\n",
      "[['U'], ['U', 'L'], ['L', 'D'], ['D']]\n",
      "[['U'], ['U', 'R'], ['R', 'D'], ['D']]\n",
      "[['U', 'R'], ['R'], ['R'], []]\n"
     ]
    }
   ],
   "source": [
    "V,P = initialization()\n",
    "\n",
    "V = policy_evaluation(V)\n",
    "while True:\n",
    "    policy_stable = policy_improvement(V,P)\n",
    "    if policy_stable == True:\n",
    "        break\n",
    "    V = policy_evaluation(V)\n",
    "# Print optimal value function\n",
    "print(np.round(V))\n",
    "# Print optimal policy\n",
    "# Each cell denotes the optimal action that can be taken from that state\n",
    "for row in P:\n",
    "    print(row)"
   ]
  },
  {
   "cell_type": "code",
   "execution_count": null,
   "metadata": {},
   "outputs": [],
   "source": []
  }
 ],
 "metadata": {
  "kernelspec": {
   "display_name": "Python 3",
   "language": "python",
   "name": "python3"
  },
  "language_info": {
   "codemirror_mode": {
    "name": "ipython",
    "version": 3
   },
   "file_extension": ".py",
   "mimetype": "text/x-python",
   "name": "python",
   "nbconvert_exporter": "python",
   "pygments_lexer": "ipython3",
   "version": "3.7.6"
  }
 },
 "nbformat": 4,
 "nbformat_minor": 4
}
