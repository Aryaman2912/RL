{
 "cells": [
  {
   "cell_type": "code",
   "execution_count": 4,
   "metadata": {},
   "outputs": [],
   "source": [
    "import numpy as np\n",
    "import matplotlib as plt"
   ]
  },
  {
   "cell_type": "code",
   "execution_count": 11,
   "metadata": {},
   "outputs": [],
   "source": [
    "# Define the environment\n",
    "\n",
    "def get_env():\n",
    "    '''\n",
    "    This function returns an empty 2d array, the start state, goal state and the wind strengths\n",
    "    '''\n",
    "    env = np.zeros([7,10])\n",
    "    GOAL_STATE = (3,7)\n",
    "    START_STATE = (3,0)\n",
    "    wind = (0,0,0,1,1,1,2,2,1,0)\n",
    "\n",
    "    return env,GOAL_STATE,START_STATE,wind"
   ]
  },
  {
   "cell_type": "code",
   "execution_count": 15,
   "metadata": {},
   "outputs": [],
   "source": [
    "# Define moves for the agent\n",
    "def move(current_position,move):\n",
    "    '''\n",
    "    Arguments: \n",
    "            current_position: tuple containing the current position of the agent\n",
    "            move: left, right, up or down\n",
    "    Returns:\n",
    "            new_position: tuple containing the new position of the agent\n",
    "    '''\n",
    "    new_position = current_position\n",
    "    if move == 'L':\n",
    "        new_position[1] = current_position[1] - 1\n",
    "    elif move == 'R':\n",
    "        new_position[1] = current_position[1] + 1\n",
    "    elif move == 'U':\n",
    "        new_position[0] = current_position[0] - 1\n",
    "    elif move == 'D':\n",
    "        new_position[0] = current_position[0] + 1\n",
    "    \n",
    "    if new_position[0] < 0:    \n",
    "        new_position[0] = 0\n",
    "    if new_position[1] < 0:\n",
    "        new_position[1] = 0\n",
    "    if new_position[0] > 6:\n",
    "        new_position[0] = 6\n",
    "    if new_position[1] > 9:\n",
    "        new_position[1] = 9\n",
    "        \n",
    "    return new_position"
   ]
  },
  {
   "cell_type": "code",
   "execution_count": null,
   "metadata": {},
   "outputs": [],
   "source": []
  },
  {
   "cell_type": "code",
   "execution_count": 16,
   "metadata": {},
   "outputs": [],
   "source": [
    "env,GOAL,START,wind = get_env()"
   ]
  },
  {
   "cell_type": "code",
   "execution_count": null,
   "metadata": {},
   "outputs": [],
   "source": []
  }
 ],
 "metadata": {
  "kernelspec": {
   "display_name": "Python 3",
   "language": "python",
   "name": "python3"
  },
  "language_info": {
   "codemirror_mode": {
    "name": "ipython",
    "version": 3
   },
   "file_extension": ".py",
   "mimetype": "text/x-python",
   "name": "python",
   "nbconvert_exporter": "python",
   "pygments_lexer": "ipython3",
   "version": "3.7.6"
  }
 },
 "nbformat": 4,
 "nbformat_minor": 4
}
